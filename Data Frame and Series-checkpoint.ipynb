{
 "cells": [
  {
   "cell_type": "code",
   "execution_count": 1,
   "id": "263ba6c6",
   "metadata": {},
   "outputs": [],
   "source": [
    "import pandas as pd\n",
    "data = pd.read_csv('lsd_math_score_data.csv')"
   ]
  },
  {
   "cell_type": "code",
   "execution_count": 2,
   "id": "9372ca5a",
   "metadata": {},
   "outputs": [
    {
     "name": "stdout",
     "output_type": "stream",
     "text": [
      "   Time_Delay_in_Minutes  LSD_ppm  Avg_Math_Test_Score\n",
      "0                      5     1.17                78.93\n",
      "1                     15     2.97                58.20\n",
      "2                     30     3.26                67.47\n",
      "3                     60     4.69                37.47\n",
      "4                    120     5.83                45.65\n",
      "5                    240     6.00                32.92\n",
      "6                    480     6.41                29.97\n"
     ]
    }
   ],
   "source": [
    "print(data)"
   ]
  },
  {
   "cell_type": "code",
   "execution_count": 3,
   "id": "ca9b15aa",
   "metadata": {},
   "outputs": [
    {
     "data": {
      "text/plain": [
       "pandas.core.frame.DataFrame"
      ]
     },
     "execution_count": 3,
     "metadata": {},
     "output_type": "execute_result"
    }
   ],
   "source": [
    "type(data)"
   ]
  },
  {
   "cell_type": "code",
   "execution_count": 6,
   "id": "efcc0b71",
   "metadata": {},
   "outputs": [
    {
     "name": "stdout",
     "output_type": "stream",
     "text": [
      "0    78.93\n",
      "1    58.20\n",
      "2    67.47\n",
      "3    37.47\n",
      "4    45.65\n",
      "5    32.92\n",
      "6    29.97\n",
      "Name: Avg_Math_Test_Score, dtype: float64\n"
     ]
    }
   ],
   "source": [
    "data['Avg_Math_Test_Score']\n",
    "onlyMathScore = data['Avg_Math_Test_Score']\n",
    "print(onlyMathScore)"
   ]
  },
  {
   "cell_type": "code",
   "execution_count": 8,
   "id": "df36124b",
   "metadata": {},
   "outputs": [
    {
     "name": "stdout",
     "output_type": "stream",
     "text": [
      "   Time_Delay_in_Minutes  LSD_ppm  Avg_Math_Test_Score Test_subject\n",
      "0                      5     1.17                78.93    hudzaifah\n",
      "1                     15     2.97                58.20    hudzaifah\n",
      "2                     30     3.26                67.47    hudzaifah\n",
      "3                     60     4.69                37.47    hudzaifah\n",
      "4                    120     5.83                45.65    hudzaifah\n",
      "5                    240     6.00                32.92    hudzaifah\n",
      "6                    480     6.41                29.97    hudzaifah\n"
     ]
    }
   ],
   "source": [
    "data['Test_subject'] = 'hudzaifah'\n",
    "print(data)"
   ]
  },
  {
   "cell_type": "code",
   "execution_count": 9,
   "id": "dcda50f0",
   "metadata": {},
   "outputs": [
    {
     "name": "stdout",
     "output_type": "stream",
     "text": [
      "   Time_Delay_in_Minutes  LSD_ppm  Avg_Math_Test_Score Test_subject  \\\n",
      "0                      5     1.17                78.93    hudzaifah   \n",
      "1                     15     2.97                58.20    hudzaifah   \n",
      "2                     30     3.26                67.47    hudzaifah   \n",
      "3                     60     4.69                37.47    hudzaifah   \n",
      "4                    120     5.83                45.65    hudzaifah   \n",
      "5                    240     6.00                32.92    hudzaifah   \n",
      "6                    480     6.41                29.97    hudzaifah   \n",
      "\n",
      "   High_Score  \n",
      "0         100  \n",
      "1         100  \n",
      "2         100  \n",
      "3         100  \n",
      "4         100  \n",
      "5         100  \n",
      "6         100  \n"
     ]
    }
   ],
   "source": [
    "data['High_Score'] = 100\n",
    "print(data)"
   ]
  },
  {
   "cell_type": "code",
   "execution_count": 10,
   "id": "fe57ceb8",
   "metadata": {},
   "outputs": [
    {
     "name": "stdout",
     "output_type": "stream",
     "text": [
      "   Time_Delay_in_Minutes  LSD_ppm  Avg_Math_Test_Score Test_subject  \\\n",
      "0                      5     1.17                78.93    hudzaifah   \n",
      "1                     15     2.97                58.20    hudzaifah   \n",
      "2                     30     3.26                67.47    hudzaifah   \n",
      "3                     60     4.69                37.47    hudzaifah   \n",
      "4                    120     5.83                45.65    hudzaifah   \n",
      "5                    240     6.00                32.92    hudzaifah   \n",
      "6                    480     6.41                29.97    hudzaifah   \n",
      "\n",
      "   High_Score  \n",
      "0      178.93  \n",
      "1      158.20  \n",
      "2      167.47  \n",
      "3      137.47  \n",
      "4      145.65  \n",
      "5      132.92  \n",
      "6      129.97  \n"
     ]
    }
   ],
   "source": [
    "data['High_Score'] = data['High_Score'] + data['Avg_Math_Test_Score']\n",
    "print(data)"
   ]
  },
  {
   "cell_type": "code",
   "execution_count": 13,
   "id": "e6c9eb9f",
   "metadata": {},
   "outputs": [
    {
     "name": "stdout",
     "output_type": "stream",
     "text": [
      "   Time_Delay_in_Minutes  LSD_ppm  Avg_Math_Test_Score Test_subject  \\\n",
      "0                      5     1.17                78.93    hudzaifah   \n",
      "1                     15     2.97                58.20    hudzaifah   \n",
      "2                     30     3.26                67.47    hudzaifah   \n",
      "3                     60     4.69                37.47    hudzaifah   \n",
      "4                    120     5.83                45.65    hudzaifah   \n",
      "5                    240     6.00                32.92    hudzaifah   \n",
      "6                    480     6.41                29.97    hudzaifah   \n",
      "\n",
      "     High_Score  \n",
      "0  2.050041e+09  \n",
      "1  1.252725e+09  \n",
      "2  1.573179e+09  \n",
      "3  7.142689e+08  \n",
      "4  9.000610e+08  \n",
      "5  6.242971e+08  \n",
      "6  5.706929e+08  \n"
     ]
    }
   ],
   "source": [
    "data['High_Score'] = data['High_Score'] * 2\n",
    "print(data)"
   ]
  },
  {
   "cell_type": "code",
   "execution_count": 14,
   "id": "97fd1298",
   "metadata": {},
   "outputs": [
    {
     "data": {
      "text/plain": [
       "pandas.core.series.Series"
      ]
     },
     "execution_count": 14,
     "metadata": {},
     "output_type": "execute_result"
    }
   ],
   "source": [
    "type(onlyMathScore)"
   ]
  },
  {
   "cell_type": "code",
   "execution_count": 16,
   "id": "f7f0fb75",
   "metadata": {},
   "outputs": [
    {
     "name": "stdout",
     "output_type": "stream",
     "text": [
      "   LSD_ppm  Avg_Math_Test_Score\n",
      "0     1.17                78.93\n",
      "1     2.97                58.20\n",
      "2     3.26                67.47\n",
      "3     4.69                37.47\n",
      "4     5.83                45.65\n",
      "5     6.00                32.92\n",
      "6     6.41                29.97\n"
     ]
    }
   ],
   "source": [
    "#columnList = ['LSD_ppm', 'Avg_Math_Test_Score']\n",
    "cleanData = data[['LSD_ppm','Avg_Math_Test_Score']]\n",
    "print(cleanData)"
   ]
  },
  {
   "cell_type": "code",
   "execution_count": 17,
   "id": "04ccfae3",
   "metadata": {},
   "outputs": [
    {
     "data": {
      "text/plain": [
       "pandas.core.frame.DataFrame"
      ]
     },
     "execution_count": 17,
     "metadata": {},
     "output_type": "execute_result"
    }
   ],
   "source": [
    "type(cleanData)"
   ]
  },
  {
   "cell_type": "code",
   "execution_count": 18,
   "id": "69333477",
   "metadata": {},
   "outputs": [
    {
     "data": {
      "text/plain": [
       "pandas.core.frame.DataFrame"
      ]
     },
     "execution_count": 18,
     "metadata": {},
     "output_type": "execute_result"
    }
   ],
   "source": [
    "#dataframe\n",
    "y = data[['Avg_Math_Test_Score']]\n",
    "#series\n",
    "y = data['Avg_Math_Test_Score']\n",
    "type(y)"
   ]
  },
  {
   "cell_type": "code",
   "execution_count": 19,
   "id": "f2be25bd",
   "metadata": {},
   "outputs": [
    {
     "name": "stdout",
     "output_type": "stream",
     "text": [
      "   LSD_ppm\n",
      "0     1.17\n",
      "1     2.97\n",
      "2     3.26\n",
      "3     4.69\n",
      "4     5.83\n",
      "5     6.00\n",
      "6     6.41\n"
     ]
    },
    {
     "data": {
      "text/plain": [
       "pandas.core.frame.DataFrame"
      ]
     },
     "execution_count": 19,
     "metadata": {},
     "output_type": "execute_result"
    }
   ],
   "source": [
    "x = data[['LSD_ppm']]\n",
    "print(x)\n",
    "type(x)"
   ]
  },
  {
   "cell_type": "code",
   "execution_count": 20,
   "id": "b214a41a",
   "metadata": {},
   "outputs": [
    {
     "name": "stdout",
     "output_type": "stream",
     "text": [
      "   Time_Delay_in_Minutes  LSD_ppm  Avg_Math_Test_Score    High_Score\n",
      "0                      5     1.17                78.93  2.050041e+09\n",
      "1                     15     2.97                58.20  1.252725e+09\n",
      "2                     30     3.26                67.47  1.573179e+09\n",
      "3                     60     4.69                37.47  7.142689e+08\n",
      "4                    120     5.83                45.65  9.000610e+08\n",
      "5                    240     6.00                32.92  6.242971e+08\n",
      "6                    480     6.41                29.97  5.706929e+08\n"
     ]
    }
   ],
   "source": [
    "del data['Test_subject']\n",
    "print(data)"
   ]
  },
  {
   "cell_type": "code",
   "execution_count": 21,
   "id": "e26a9335",
   "metadata": {},
   "outputs": [],
   "source": [
    "del data['High_Score']"
   ]
  },
  {
   "cell_type": "code",
   "execution_count": 22,
   "id": "9b484a8f",
   "metadata": {},
   "outputs": [
    {
     "name": "stdout",
     "output_type": "stream",
     "text": [
      "   Time_Delay_in_Minutes  LSD_ppm  Avg_Math_Test_Score\n",
      "0                      5     1.17                78.93\n",
      "1                     15     2.97                58.20\n",
      "2                     30     3.26                67.47\n",
      "3                     60     4.69                37.47\n",
      "4                    120     5.83                45.65\n",
      "5                    240     6.00                32.92\n",
      "6                    480     6.41                29.97\n"
     ]
    }
   ],
   "source": [
    "print(data)"
   ]
  },
  {
   "cell_type": "code",
   "execution_count": null,
   "id": "4f18ca41",
   "metadata": {},
   "outputs": [],
   "source": []
  }
 ],
 "metadata": {
  "kernelspec": {
   "display_name": "Python 3 (ipykernel)",
   "language": "python",
   "name": "python3"
  },
  "language_info": {
   "codemirror_mode": {
    "name": "ipython",
    "version": 3
   },
   "file_extension": ".py",
   "mimetype": "text/x-python",
   "name": "python",
   "nbconvert_exporter": "python",
   "pygments_lexer": "ipython3",
   "version": "3.9.12"
  }
 },
 "nbformat": 4,
 "nbformat_minor": 5
}
