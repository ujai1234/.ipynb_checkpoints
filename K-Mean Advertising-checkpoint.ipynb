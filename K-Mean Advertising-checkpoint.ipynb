{
 "cells": [
  {
   "cell_type": "code",
   "execution_count": 1,
   "id": "c0d32981",
   "metadata": {},
   "outputs": [],
   "source": [
    "import pandas as pd\n",
    "import numpy as np\n",
    "import matplotlib.pyplot as plt\n",
    "from sklearn.cluster import KMeans \n",
    "from sklearn.preprocessing import MinMaxScaler\n",
    "#from sklearn.preprocessing import StandardScaler\n",
    "import seaborn as sns\n",
    "import scipy"
   ]
  },
  {
   "cell_type": "code",
   "execution_count": 2,
   "id": "186ed50f",
   "metadata": {},
   "outputs": [
    {
     "data": {
      "text/html": [
       "<div>\n",
       "<style scoped>\n",
       "    .dataframe tbody tr th:only-of-type {\n",
       "        vertical-align: middle;\n",
       "    }\n",
       "\n",
       "    .dataframe tbody tr th {\n",
       "        vertical-align: top;\n",
       "    }\n",
       "\n",
       "    .dataframe thead th {\n",
       "        text-align: right;\n",
       "    }\n",
       "</style>\n",
       "<table border=\"1\" class=\"dataframe\">\n",
       "  <thead>\n",
       "    <tr style=\"text-align: right;\">\n",
       "      <th></th>\n",
       "      <th>date</th>\n",
       "      <th>campaign</th>\n",
       "      <th>adgroup</th>\n",
       "      <th>ad</th>\n",
       "      <th>cost</th>\n",
       "      <th>impressions</th>\n",
       "      <th>clicks</th>\n",
       "      <th>conversions</th>\n",
       "    </tr>\n",
       "  </thead>\n",
       "  <tbody>\n",
       "    <tr>\n",
       "      <th>0</th>\n",
       "      <td>01-03-2021</td>\n",
       "      <td>campaign 1</td>\n",
       "      <td>adgroup 1</td>\n",
       "      <td>ad 1</td>\n",
       "      <td>0.58</td>\n",
       "      <td>121</td>\n",
       "      <td>49</td>\n",
       "      <td>1</td>\n",
       "    </tr>\n",
       "    <tr>\n",
       "      <th>1</th>\n",
       "      <td>01-03-2021</td>\n",
       "      <td>campaign 1</td>\n",
       "      <td>adgroup 3</td>\n",
       "      <td>ad 1</td>\n",
       "      <td>0.17</td>\n",
       "      <td>22</td>\n",
       "      <td>12</td>\n",
       "      <td>0</td>\n",
       "    </tr>\n",
       "    <tr>\n",
       "      <th>2</th>\n",
       "      <td>01-03-2021</td>\n",
       "      <td>campaign 1</td>\n",
       "      <td>adgroup 4</td>\n",
       "      <td>ad 1</td>\n",
       "      <td>0.05</td>\n",
       "      <td>5</td>\n",
       "      <td>3</td>\n",
       "      <td>0</td>\n",
       "    </tr>\n",
       "    <tr>\n",
       "      <th>3</th>\n",
       "      <td>01-03-2021</td>\n",
       "      <td>campaign 1</td>\n",
       "      <td>adgroup 2</td>\n",
       "      <td>ad 1</td>\n",
       "      <td>0.01</td>\n",
       "      <td>2</td>\n",
       "      <td>1</td>\n",
       "      <td>0</td>\n",
       "    </tr>\n",
       "    <tr>\n",
       "      <th>4</th>\n",
       "      <td>01-03-2021</td>\n",
       "      <td>campaign 1</td>\n",
       "      <td>adgroup 2</td>\n",
       "      <td>ad 2</td>\n",
       "      <td>0.01</td>\n",
       "      <td>3</td>\n",
       "      <td>1</td>\n",
       "      <td>0</td>\n",
       "    </tr>\n",
       "  </tbody>\n",
       "</table>\n",
       "</div>"
      ],
      "text/plain": [
       "         date    campaign    adgroup    ad  cost  impressions  clicks  \\\n",
       "0  01-03-2021  campaign 1  adgroup 1  ad 1  0.58          121      49   \n",
       "1  01-03-2021  campaign 1  adgroup 3  ad 1  0.17           22      12   \n",
       "2  01-03-2021  campaign 1  adgroup 4  ad 1  0.05            5       3   \n",
       "3  01-03-2021  campaign 1  adgroup 2  ad 1  0.01            2       1   \n",
       "4  01-03-2021  campaign 1  adgroup 2  ad 2  0.01            3       1   \n",
       "\n",
       "   conversions  \n",
       "0            1  \n",
       "1            0  \n",
       "2            0  \n",
       "3            0  \n",
       "4            0  "
      ]
     },
     "execution_count": 2,
     "metadata": {},
     "output_type": "execute_result"
    }
   ],
   "source": [
    "data = pd.read_csv('Test_Data.csv')\n",
    "data.head()"
   ]
  },
  {
   "cell_type": "code",
   "execution_count": 3,
   "id": "bb6d0bb3",
   "metadata": {},
   "outputs": [
    {
     "data": {
      "text/html": [
       "<div>\n",
       "<style scoped>\n",
       "    .dataframe tbody tr th:only-of-type {\n",
       "        vertical-align: middle;\n",
       "    }\n",
       "\n",
       "    .dataframe tbody tr th {\n",
       "        vertical-align: top;\n",
       "    }\n",
       "\n",
       "    .dataframe thead th {\n",
       "        text-align: right;\n",
       "    }\n",
       "</style>\n",
       "<table border=\"1\" class=\"dataframe\">\n",
       "  <thead>\n",
       "    <tr style=\"text-align: right;\">\n",
       "      <th></th>\n",
       "      <th>cost</th>\n",
       "      <th>impressions</th>\n",
       "      <th>clicks</th>\n",
       "      <th>conversions</th>\n",
       "    </tr>\n",
       "  </thead>\n",
       "  <tbody>\n",
       "    <tr>\n",
       "      <th>count</th>\n",
       "      <td>318.000000</td>\n",
       "      <td>318.000000</td>\n",
       "      <td>318.000000</td>\n",
       "      <td>318.000000</td>\n",
       "    </tr>\n",
       "    <tr>\n",
       "      <th>mean</th>\n",
       "      <td>0.381352</td>\n",
       "      <td>67.144654</td>\n",
       "      <td>29.720126</td>\n",
       "      <td>0.805031</td>\n",
       "    </tr>\n",
       "    <tr>\n",
       "      <th>std</th>\n",
       "      <td>0.591480</td>\n",
       "      <td>101.078870</td>\n",
       "      <td>45.200014</td>\n",
       "      <td>1.802480</td>\n",
       "    </tr>\n",
       "    <tr>\n",
       "      <th>min</th>\n",
       "      <td>0.000000</td>\n",
       "      <td>1.000000</td>\n",
       "      <td>0.000000</td>\n",
       "      <td>0.000000</td>\n",
       "    </tr>\n",
       "    <tr>\n",
       "      <th>25%</th>\n",
       "      <td>0.020000</td>\n",
       "      <td>4.000000</td>\n",
       "      <td>2.000000</td>\n",
       "      <td>0.000000</td>\n",
       "    </tr>\n",
       "    <tr>\n",
       "      <th>50%</th>\n",
       "      <td>0.105000</td>\n",
       "      <td>20.000000</td>\n",
       "      <td>9.000000</td>\n",
       "      <td>0.000000</td>\n",
       "    </tr>\n",
       "    <tr>\n",
       "      <th>75%</th>\n",
       "      <td>0.490000</td>\n",
       "      <td>103.000000</td>\n",
       "      <td>40.750000</td>\n",
       "      <td>1.000000</td>\n",
       "    </tr>\n",
       "    <tr>\n",
       "      <th>max</th>\n",
       "      <td>3.530000</td>\n",
       "      <td>589.000000</td>\n",
       "      <td>276.000000</td>\n",
       "      <td>15.000000</td>\n",
       "    </tr>\n",
       "  </tbody>\n",
       "</table>\n",
       "</div>"
      ],
      "text/plain": [
       "             cost  impressions      clicks  conversions\n",
       "count  318.000000   318.000000  318.000000   318.000000\n",
       "mean     0.381352    67.144654   29.720126     0.805031\n",
       "std      0.591480   101.078870   45.200014     1.802480\n",
       "min      0.000000     1.000000    0.000000     0.000000\n",
       "25%      0.020000     4.000000    2.000000     0.000000\n",
       "50%      0.105000    20.000000    9.000000     0.000000\n",
       "75%      0.490000   103.000000   40.750000     1.000000\n",
       "max      3.530000   589.000000  276.000000    15.000000"
      ]
     },
     "execution_count": 3,
     "metadata": {},
     "output_type": "execute_result"
    }
   ],
   "source": [
    "data.describe()"
   ]
  },
  {
   "cell_type": "code",
   "execution_count": 4,
   "id": "6e27edbf",
   "metadata": {},
   "outputs": [
    {
     "name": "stdout",
     "output_type": "stream",
     "text": [
      "<class 'pandas.core.frame.DataFrame'>\n",
      "RangeIndex: 318 entries, 0 to 317\n",
      "Data columns (total 8 columns):\n",
      " #   Column       Non-Null Count  Dtype  \n",
      "---  ------       --------------  -----  \n",
      " 0   date         318 non-null    object \n",
      " 1   campaign     318 non-null    object \n",
      " 2   adgroup      318 non-null    object \n",
      " 3   ad           318 non-null    object \n",
      " 4   cost         318 non-null    float64\n",
      " 5   impressions  318 non-null    int64  \n",
      " 6   clicks       318 non-null    int64  \n",
      " 7   conversions  318 non-null    int64  \n",
      "dtypes: float64(1), int64(3), object(4)\n",
      "memory usage: 20.0+ KB\n"
     ]
    }
   ],
   "source": [
    "data.info()"
   ]
  },
  {
   "cell_type": "code",
   "execution_count": 5,
   "id": "3b50e168",
   "metadata": {},
   "outputs": [
    {
     "data": {
      "text/plain": [
       "date           0\n",
       "campaign       0\n",
       "adgroup        0\n",
       "ad             0\n",
       "cost           0\n",
       "impressions    0\n",
       "clicks         0\n",
       "conversions    0\n",
       "dtype: int64"
      ]
     },
     "execution_count": 5,
     "metadata": {},
     "output_type": "execute_result"
    }
   ],
   "source": [
    "data.isna().sum()"
   ]
  },
  {
   "cell_type": "code",
   "execution_count": 6,
   "id": "d098ab40",
   "metadata": {},
   "outputs": [
    {
     "data": {
      "text/html": [
       "<div>\n",
       "<style scoped>\n",
       "    .dataframe tbody tr th:only-of-type {\n",
       "        vertical-align: middle;\n",
       "    }\n",
       "\n",
       "    .dataframe tbody tr th {\n",
       "        vertical-align: top;\n",
       "    }\n",
       "\n",
       "    .dataframe thead th {\n",
       "        text-align: right;\n",
       "    }\n",
       "</style>\n",
       "<table border=\"1\" class=\"dataframe\">\n",
       "  <thead>\n",
       "    <tr style=\"text-align: right;\">\n",
       "      <th></th>\n",
       "      <th>cost</th>\n",
       "      <th>impressions</th>\n",
       "      <th>clicks</th>\n",
       "      <th>conversions</th>\n",
       "    </tr>\n",
       "  </thead>\n",
       "  <tbody>\n",
       "    <tr>\n",
       "      <th>cost</th>\n",
       "      <td>1.000000</td>\n",
       "      <td>0.982978</td>\n",
       "      <td>0.990576</td>\n",
       "      <td>0.746601</td>\n",
       "    </tr>\n",
       "    <tr>\n",
       "      <th>impressions</th>\n",
       "      <td>0.982978</td>\n",
       "      <td>1.000000</td>\n",
       "      <td>0.990075</td>\n",
       "      <td>0.764677</td>\n",
       "    </tr>\n",
       "    <tr>\n",
       "      <th>clicks</th>\n",
       "      <td>0.990576</td>\n",
       "      <td>0.990075</td>\n",
       "      <td>1.000000</td>\n",
       "      <td>0.781853</td>\n",
       "    </tr>\n",
       "    <tr>\n",
       "      <th>conversions</th>\n",
       "      <td>0.746601</td>\n",
       "      <td>0.764677</td>\n",
       "      <td>0.781853</td>\n",
       "      <td>1.000000</td>\n",
       "    </tr>\n",
       "  </tbody>\n",
       "</table>\n",
       "</div>"
      ],
      "text/plain": [
       "                 cost  impressions    clicks  conversions\n",
       "cost         1.000000     0.982978  0.990576     0.746601\n",
       "impressions  0.982978     1.000000  0.990075     0.764677\n",
       "clicks       0.990576     0.990075  1.000000     0.781853\n",
       "conversions  0.746601     0.764677  0.781853     1.000000"
      ]
     },
     "execution_count": 6,
     "metadata": {},
     "output_type": "execute_result"
    }
   ],
   "source": [
    "data.corr()"
   ]
  },
  {
   "cell_type": "code",
   "execution_count": 7,
   "id": "5b727cc8",
   "metadata": {},
   "outputs": [
    {
     "data": {
      "image/png": "[encoded data removed]",
      "text/plain": [
       "<Figure size 1000x500 with 2 Axes>"
      ]
     },
     "metadata": {},
     "output_type": "display_data"
    }
   ],
   "source": [
    "plt.figure(figsize=(10,5))\n",
    "s = sns.heatmap(data.corr(),\n",
    "                annot=True,\n",
    "                cmap='RdBu',\n",
    "                vmin=-1,\n",
    "                vmax=1)\n",
    "s.set_yticklabels(s.get_yticklabels(), rotation = 0, fontsize = 12)\n",
    "s.set_xticklabels(s.get_xticklabels(), rotation = 0, fontsize = 12)\n",
    "plt.title('Correlation Heatmap')\n",
    "plt.show()"
   ]
  },
  {
   "cell_type": "code",
   "execution_count": 8,
   "id": "e494c5d1",
   "metadata": {},
   "outputs": [
    {
     "data": {
      "text/plain": [
       "<matplotlib.collections.PathCollection at 0x27ab0e4c9a0>"
      ]
     },
     "execution_count": 8,
     "metadata": {},
     "output_type": "execute_result"
    },
    {
     "data": {
      "image/png": "[encoded data removed]",
      "text/plain": [
       "<Figure size 640x480 with 1 Axes>"
      ]
     },
     "metadata": {},
     "output_type": "display_data"
    }
   ],
   "source": [
    "x = data['cost']\n",
    "y = data['conversions']\n",
    "label = data['conversions']\n",
    "plt.scatter(x, y, c=label, cmap='plasma')"
   ]
  },
  {
   "cell_type": "code",
   "execution_count": 9,
   "id": "f348c60a",
   "metadata": {},
   "outputs": [
    {
     "data": {
      "text/html": [
       "<div>\n",
       "<style scoped>\n",
       "    .dataframe tbody tr th:only-of-type {\n",
       "        vertical-align: middle;\n",
       "    }\n",
       "\n",
       "    .dataframe tbody tr th {\n",
       "        vertical-align: top;\n",
       "    }\n",
       "\n",
       "    .dataframe thead th {\n",
       "        text-align: right;\n",
       "    }\n",
       "</style>\n",
       "<table border=\"1\" class=\"dataframe\">\n",
       "  <thead>\n",
       "    <tr style=\"text-align: right;\">\n",
       "      <th></th>\n",
       "      <th>cost</th>\n",
       "      <th>impressions</th>\n",
       "      <th>clicks</th>\n",
       "    </tr>\n",
       "  </thead>\n",
       "  <tbody>\n",
       "    <tr>\n",
       "      <th>0</th>\n",
       "      <td>0.58</td>\n",
       "      <td>121</td>\n",
       "      <td>49</td>\n",
       "    </tr>\n",
       "    <tr>\n",
       "      <th>1</th>\n",
       "      <td>0.17</td>\n",
       "      <td>22</td>\n",
       "      <td>12</td>\n",
       "    </tr>\n",
       "    <tr>\n",
       "      <th>2</th>\n",
       "      <td>0.05</td>\n",
       "      <td>5</td>\n",
       "      <td>3</td>\n",
       "    </tr>\n",
       "    <tr>\n",
       "      <th>3</th>\n",
       "      <td>0.01</td>\n",
       "      <td>2</td>\n",
       "      <td>1</td>\n",
       "    </tr>\n",
       "    <tr>\n",
       "      <th>4</th>\n",
       "      <td>0.01</td>\n",
       "      <td>3</td>\n",
       "      <td>1</td>\n",
       "    </tr>\n",
       "  </tbody>\n",
       "</table>\n",
       "</div>"
      ],
      "text/plain": [
       "   cost  impressions  clicks\n",
       "0  0.58          121      49\n",
       "1  0.17           22      12\n",
       "2  0.05            5       3\n",
       "3  0.01            2       1\n",
       "4  0.01            3       1"
      ]
     },
     "execution_count": 9,
     "metadata": {},
     "output_type": "execute_result"
    }
   ],
   "source": [
    "data = data[['cost','impressions','clicks']]\n",
    "data.head()"
   ]
  },
  {
   "cell_type": "code",
   "execution_count": 10,
   "id": "98f9bd6b",
   "metadata": {},
   "outputs": [],
   "source": [
    "# Preorocessing StandardScaler\n",
    "#scaler =  StandardScaler().fit_transform(data)\n",
    "#scaler"
   ]
  },
  {
   "cell_type": "code",
   "execution_count": 11,
   "id": "21d59e4a",
   "metadata": {},
   "outputs": [
    {
     "data": {
      "text/plain": [
       "array([[0.16430595, 0.20408163, 0.17753623],\n",
       "       [0.04815864, 0.03571429, 0.04347826],\n",
       "       [0.01416431, 0.00680272, 0.01086957],\n",
       "       [0.00283286, 0.00170068, 0.00362319],\n",
       "       [0.00283286, 0.00340136, 0.00362319],\n",
       "       [0.00849858, 0.00510204, 0.00724638],\n",
       "       [0.47308782, 0.46768707, 0.44565217],\n",
       "       [0.        , 0.0085034 , 0.        ],\n",
       "       [0.30028329, 0.27380952, 0.26811594],\n",
       "       [0.02266289, 0.0085034 , 0.01811594],\n",
       "       [0.46458924, 0.49829932, 0.39855072],\n",
       "       [0.04815864, 0.03571429, 0.05072464],\n",
       "       [0.02832861, 0.02380952, 0.02536232],\n",
       "       [0.24929178, 0.25680272, 0.29710145],\n",
       "       [0.00566572, 0.00340136, 0.00724638],\n",
       "       [0.08498584, 0.15816327, 0.10869565],\n",
       "       [0.04532578, 0.04081633, 0.04347826],\n",
       "       [0.2776204 , 0.32312925, 0.28623188],\n",
       "       [0.06232295, 0.03911565, 0.05072464],\n",
       "       [0.06798867, 0.04421769, 0.06521739],\n",
       "       [0.        , 0.00510204, 0.        ],\n",
       "       [0.18413598, 0.18877551, 0.17391304],\n",
       "       [0.00566572, 0.00340136, 0.00724638],\n",
       "       [0.44475921, 0.47619048, 0.45652174],\n",
       "       [0.        , 0.        , 0.        ],\n",
       "       [0.00566572, 0.00510204, 0.00724638],\n",
       "       [0.4674221 , 0.50510204, 0.44202899],\n",
       "       [0.38526912, 0.33163265, 0.35144928],\n",
       "       [0.01416431, 0.01020408, 0.01449275],\n",
       "       [0.        , 0.00170068, 0.        ],\n",
       "       [0.06798867, 0.05102041, 0.06521739],\n",
       "       [0.01983003, 0.01870748, 0.01811594],\n",
       "       [0.28045326, 0.25510204, 0.31884058],\n",
       "       [0.13031161, 0.17346939, 0.14130435],\n",
       "       [0.0368272 , 0.03741497, 0.03985507],\n",
       "       [0.01133144, 0.0085034 , 0.00724638],\n",
       "       [0.26628895, 0.30102041, 0.27173913],\n",
       "       [0.03399433, 0.04761905, 0.03623188],\n",
       "       [0.        , 0.00170068, 0.        ],\n",
       "       [0.02549575, 0.00680272, 0.01811594],\n",
       "       [0.02266289, 0.02040816, 0.02898551],\n",
       "       [0.0509915 , 0.06972789, 0.05072464],\n",
       "       [0.        , 0.        , 0.        ],\n",
       "       [0.09631728, 0.07482993, 0.07608696],\n",
       "       [0.11331445, 0.11394558, 0.09782609],\n",
       "       [0.00566572, 0.        , 0.00362319],\n",
       "       [0.01416431, 0.01020408, 0.01086957],\n",
       "       [0.00849858, 0.00340136, 0.00724638],\n",
       "       [0.03966006, 0.03231293, 0.04710145],\n",
       "       [0.01983003, 0.03231293, 0.02173913],\n",
       "       [0.        , 0.        , 0.        ],\n",
       "       [0.01983003, 0.01360544, 0.01811594],\n",
       "       [0.07082153, 0.06972789, 0.07971014],\n",
       "       [0.24645892, 0.21428571, 0.25      ],\n",
       "       [0.22946176, 0.32482993, 0.23188406],\n",
       "       [0.00849858, 0.00510204, 0.01086957],\n",
       "       [0.00283286, 0.        , 0.00362319],\n",
       "       [0.00566572, 0.0085034 , 0.00362319],\n",
       "       [0.01699717, 0.00340136, 0.00362319],\n",
       "       [0.58073654, 0.53571429, 0.52536232],\n",
       "       [0.00283286, 0.00340136, 0.00362319],\n",
       "       [0.1898017 , 0.22619048, 0.19927536],\n",
       "       [0.00566572, 0.00170068, 0.00362319],\n",
       "       [0.47875354, 0.51870748, 0.45289855],\n",
       "       [0.01133144, 0.0085034 , 0.01086957],\n",
       "       [0.15864023, 0.15306122, 0.14492754],\n",
       "       [0.45042493, 0.43707483, 0.4384058 ],\n",
       "       [0.47025496, 0.58843537, 0.49637681],\n",
       "       [0.00283286, 0.        , 0.00362319],\n",
       "       [0.01416431, 0.01360544, 0.01086957],\n",
       "       [0.43626062, 0.45578231, 0.43115942],\n",
       "       [0.00283286, 0.00170068, 0.00362319],\n",
       "       [0.01133144, 0.00340136, 0.00724638],\n",
       "       [0.        , 0.00170068, 0.        ],\n",
       "       [0.25779037, 0.29251701, 0.27898551],\n",
       "       [0.11331445, 0.1122449 , 0.11231884],\n",
       "       [0.39660057, 0.44557823, 0.41666667],\n",
       "       [0.00283286, 0.00170068, 0.00362319],\n",
       "       [0.19830028, 0.20748299, 0.19565217],\n",
       "       [0.01416431, 0.02210884, 0.01811594],\n",
       "       [0.30311615, 0.40306122, 0.35144928],\n",
       "       [0.00283286, 0.00170068, 0.00362319],\n",
       "       [0.05665722, 0.06632653, 0.05797101],\n",
       "       [0.1388102 , 0.1037415 , 0.13768116],\n",
       "       [0.01133144, 0.01530612, 0.01449275],\n",
       "       [0.0368272 , 0.0085034 , 0.01086957],\n",
       "       [0.54957507, 0.61394558, 0.5615942 ],\n",
       "       [0.82152975, 0.70918367, 0.77898551],\n",
       "       [0.        , 0.        , 0.        ],\n",
       "       [0.20396601, 0.23129252, 0.22101449],\n",
       "       [0.09065156, 0.11054422, 0.10144928],\n",
       "       [0.04815864, 0.03231293, 0.04710145],\n",
       "       [0.0878187 , 0.09013605, 0.08695652],\n",
       "       [0.07648725, 0.07993197, 0.08695652],\n",
       "       [0.15580737, 0.12585034, 0.13768116],\n",
       "       [0.00566572, 0.        , 0.00362319],\n",
       "       [0.        , 0.        , 0.        ],\n",
       "       [0.        , 0.        , 0.        ],\n",
       "       [0.18696884, 0.17857143, 0.18478261],\n",
       "       [0.00283286, 0.00680272, 0.00362319],\n",
       "       [0.17280453, 0.19557823, 0.18478261],\n",
       "       [0.00283286, 0.        , 0.00362319],\n",
       "       [0.01699717, 0.00680272, 0.01449275],\n",
       "       [0.95184136, 0.85204082, 0.85507246],\n",
       "       [0.00849858, 0.00680272, 0.01086957],\n",
       "       [0.75637394, 0.94727891, 0.84057971],\n",
       "       [0.00849858, 0.00510204, 0.01086957],\n",
       "       [0.12747875, 0.1292517 , 0.11594203],\n",
       "       [0.00566572, 0.00510204, 0.00362319],\n",
       "       [0.16430595, 0.22108844, 0.16304348],\n",
       "       [0.        , 0.00340136, 0.        ],\n",
       "       [0.22096317, 0.21088435, 0.22826087],\n",
       "       [0.01983003, 0.02040816, 0.02173913],\n",
       "       [0.17847025, 0.18707483, 0.1884058 ],\n",
       "       [0.01983003, 0.02040816, 0.02173913],\n",
       "       [1.        , 0.95068027, 0.94565217],\n",
       "       [0.02549575, 0.02210884, 0.02173913],\n",
       "       [0.98300283, 1.        , 1.        ],\n",
       "       [0.21813031, 0.2585034 , 0.22826087],\n",
       "       [0.13314448, 0.12585034, 0.12318841],\n",
       "       [0.00849858, 0.00680272, 0.01086957],\n",
       "       [0.00849858, 0.00340136, 0.00724638],\n",
       "       [0.17563739, 0.27210884, 0.21376812],\n",
       "       [0.00283286, 0.00510204, 0.00362319],\n",
       "       [0.02266289, 0.01190476, 0.02173913],\n",
       "       [0.        , 0.        , 0.        ],\n",
       "       [0.42209632, 0.44047619, 0.48913043],\n",
       "       [0.00566572, 0.00680272, 0.00724638],\n",
       "       [0.45892351, 0.52210884, 0.49275362],\n",
       "       [0.3427762 , 0.30102041, 0.3442029 ],\n",
       "       [0.00566572, 0.00510204, 0.00362319],\n",
       "       [0.00566572, 0.00510204, 0.00362319],\n",
       "       [0.01983003, 0.02210884, 0.02173913],\n",
       "       [0.01416431, 0.02040816, 0.01449275],\n",
       "       [0.2917847 , 0.28231293, 0.33695652],\n",
       "       [0.03399433, 0.03571429, 0.03623188],\n",
       "       [0.04249292, 0.05782313, 0.05434783],\n",
       "       [0.01699717, 0.01870748, 0.01811594],\n",
       "       [0.2917847 , 0.35034014, 0.32246377],\n",
       "       [0.        , 0.00170068, 0.        ],\n",
       "       [0.04532578, 0.07993197, 0.05434783],\n",
       "       [0.        , 0.        , 0.        ],\n",
       "       [0.02549575, 0.0255102 , 0.02898551],\n",
       "       [0.00283286, 0.        , 0.00362319],\n",
       "       [0.04815864, 0.04761905, 0.05072464],\n",
       "       [0.00283286, 0.        , 0.00362319],\n",
       "       [0.01416431, 0.01360544, 0.01449275],\n",
       "       [0.0878187 , 0.1037415 , 0.07971014],\n",
       "       [0.12464589, 0.18197279, 0.15942029],\n",
       "       [0.03399433, 0.01360544, 0.02898551],\n",
       "       [0.00849858, 0.00680272, 0.00724638],\n",
       "       [0.        , 0.00340136, 0.        ],\n",
       "       [0.25495751, 0.34013605, 0.30434783],\n",
       "       [0.        , 0.0085034 , 0.        ],\n",
       "       [0.36543909, 0.35544218, 0.34057971],\n",
       "       [0.00849858, 0.00510204, 0.00724638],\n",
       "       [0.32577904, 0.38605442, 0.34782609],\n",
       "       [0.00849858, 0.01190476, 0.00724638],\n",
       "       [0.02549575, 0.02891156, 0.02536232],\n",
       "       [0.01133144, 0.01870748, 0.00724638],\n",
       "       [0.25779037, 0.23469388, 0.27536232],\n",
       "       [0.        , 0.        , 0.        ],\n",
       "       [0.05949008, 0.04931973, 0.05072464],\n",
       "       [0.01983003, 0.04251701, 0.02173913],\n",
       "       [0.26345609, 0.29421769, 0.27898551],\n",
       "       [0.        , 0.        , 0.        ],\n",
       "       [0.08215297, 0.06972789, 0.09782609],\n",
       "       [0.0509915 , 0.03911565, 0.03985507],\n",
       "       [0.00283286, 0.        , 0.00362319],\n",
       "       [0.02832861, 0.04761905, 0.0326087 ],\n",
       "       [0.01133144, 0.02210884, 0.01449275],\n",
       "       [0.        , 0.        , 0.        ],\n",
       "       [0.10481586, 0.13095238, 0.10869565],\n",
       "       [0.1388102 , 0.17346939, 0.14855072],\n",
       "       [0.        , 0.        , 0.        ],\n",
       "       [0.03399433, 0.02380952, 0.02898551],\n",
       "       [0.        , 0.00170068, 0.        ],\n",
       "       [0.00566572, 0.00340136, 0.00362319],\n",
       "       [0.2407932 , 0.28571429, 0.27173913],\n",
       "       [0.00566572, 0.00340136, 0.00362319],\n",
       "       [0.00849858, 0.0085034 , 0.00724638],\n",
       "       [0.3286119 , 0.28061224, 0.27536232],\n",
       "       [0.        , 0.        , 0.        ],\n",
       "       [0.58073654, 0.42006803, 0.32608696],\n",
       "       [0.0509915 , 0.04081633, 0.03985507],\n",
       "       [0.06232295, 0.03741497, 0.05434783],\n",
       "       [0.20396601, 0.19047619, 0.22463768],\n",
       "       [0.01699717, 0.04931973, 0.01811594],\n",
       "       [0.06232295, 0.06122449, 0.07608696],\n",
       "       [0.00283286, 0.00340136, 0.00362319],\n",
       "       [0.28328612, 0.27891156, 0.3115942 ],\n",
       "       [0.02832861, 0.05272109, 0.0326087 ],\n",
       "       [0.0878187 , 0.10034014, 0.08695652],\n",
       "       [0.03399433, 0.0255102 , 0.02898551],\n",
       "       [0.01983003, 0.04591837, 0.02173913],\n",
       "       [0.04249292, 0.02040816, 0.0326087 ],\n",
       "       [0.        , 0.        , 0.        ],\n",
       "       [0.        , 0.        , 0.        ],\n",
       "       [0.02549575, 0.02891156, 0.0326087 ],\n",
       "       [0.12181303, 0.14285714, 0.14130435],\n",
       "       [0.01699717, 0.01190476, 0.01811594],\n",
       "       [0.00566572, 0.00340136, 0.00724638],\n",
       "       [0.33144476, 0.3537415 , 0.36956522],\n",
       "       [0.01416431, 0.00340136, 0.01449275],\n",
       "       [0.        , 0.00170068, 0.        ],\n",
       "       [0.35977337, 0.31462585, 0.30797101],\n",
       "       [0.39943343, 0.47619048, 0.37318841],\n",
       "       [0.02832861, 0.04761905, 0.02536232],\n",
       "       [0.0509915 , 0.04421769, 0.04347826],\n",
       "       [0.2407932 , 0.20578231, 0.27536232],\n",
       "       [0.00849858, 0.00170068, 0.00724638],\n",
       "       [0.03966006, 0.04931973, 0.04347826],\n",
       "       [0.06232295, 0.04591837, 0.05797101],\n",
       "       [0.27478754, 0.2670068 , 0.26811594],\n",
       "       [0.0509915 , 0.05782313, 0.05434783],\n",
       "       [0.00566572, 0.        , 0.00724638],\n",
       "       [0.05665722, 0.11564626, 0.05797101],\n",
       "       [0.02549575, 0.02040816, 0.02536232],\n",
       "       [0.01983003, 0.03061224, 0.02173913],\n",
       "       [0.05382436, 0.04591837, 0.0615942 ],\n",
       "       [0.        , 0.00340136, 0.        ],\n",
       "       [0.03399433, 0.02380952, 0.0326087 ],\n",
       "       [0.12181303, 0.15646259, 0.14130435],\n",
       "       [0.00283286, 0.        , 0.00362319],\n",
       "       [0.01133144, 0.00680272, 0.01086957],\n",
       "       [0.2776204 , 0.31292517, 0.30072464],\n",
       "       [0.00566572, 0.00170068, 0.00724638],\n",
       "       [0.00283286, 0.00510204, 0.00362319],\n",
       "       [0.30594901, 0.40136054, 0.29347826],\n",
       "       [0.00566572, 0.        , 0.00362319],\n",
       "       [0.39376771, 0.31292517, 0.32971014],\n",
       "       [0.02549575, 0.03911565, 0.02536232],\n",
       "       [0.06798867, 0.03571429, 0.05072464],\n",
       "       [0.18696884, 0.19557823, 0.20652174],\n",
       "       [0.01983003, 0.02380952, 0.02173913],\n",
       "       [0.0368272 , 0.02380952, 0.03985507],\n",
       "       [0.00566572, 0.00510204, 0.00362319],\n",
       "       [0.25495751, 0.30102041, 0.24637681],\n",
       "       [0.07365439, 0.07482993, 0.06521739],\n",
       "       [0.07932011, 0.11054422, 0.0942029 ],\n",
       "       [0.        , 0.00170068, 0.        ],\n",
       "       [0.00849858, 0.01020408, 0.00724638],\n",
       "       [0.03116147, 0.05102041, 0.03623188],\n",
       "       [0.02549575, 0.0255102 , 0.02536232],\n",
       "       [0.        , 0.00340136, 0.        ],\n",
       "       [0.03966006, 0.02721088, 0.03985507],\n",
       "       [0.00566572, 0.        , 0.00362319],\n",
       "       [0.07932011, 0.12585034, 0.10144928],\n",
       "       [0.00849858, 0.00510204, 0.00724638],\n",
       "       [0.        , 0.        , 0.        ],\n",
       "       [0.20679887, 0.23469388, 0.23188406],\n",
       "       [0.35977337, 0.47619048, 0.33333333],\n",
       "       [0.00849858, 0.00680272, 0.01086957],\n",
       "       [0.44759207, 0.36564626, 0.41304348],\n",
       "       [0.00566572, 0.00510204, 0.00362319],\n",
       "       [0.07932011, 0.05782313, 0.06884058],\n",
       "       [0.02832861, 0.04421769, 0.02898551],\n",
       "       [0.11614731, 0.12414966, 0.13405797],\n",
       "       [0.01983003, 0.03571429, 0.02173913],\n",
       "       [0.05665722, 0.04931973, 0.05072464],\n",
       "       [0.00566572, 0.00340136, 0.00362319],\n",
       "       [0.22379603, 0.29591837, 0.24275362],\n",
       "       [0.06232295, 0.05782313, 0.05797101],\n",
       "       [0.07365439, 0.10884354, 0.06884058],\n",
       "       [0.00566572, 0.00510204, 0.00362319],\n",
       "       [0.02832861, 0.03061224, 0.02173913],\n",
       "       [0.0368272 , 0.04931973, 0.04347826],\n",
       "       [0.01133144, 0.00680272, 0.01449275],\n",
       "       [0.        , 0.00340136, 0.        ],\n",
       "       [0.00849858, 0.00680272, 0.01086957],\n",
       "       [0.11331445, 0.13605442, 0.12318841],\n",
       "       [0.        , 0.        , 0.        ],\n",
       "       [0.02549575, 0.0255102 , 0.0326087 ],\n",
       "       [0.23796034, 0.23809524, 0.24637681],\n",
       "       [0.00566572, 0.00340136, 0.00724638],\n",
       "       [0.00849858, 0.00340136, 0.00724638],\n",
       "       [0.02266289, 0.0085034 , 0.01086957],\n",
       "       [0.49008499, 0.39965986, 0.42028986],\n",
       "       [0.49858357, 0.54421769, 0.48550725],\n",
       "       [0.00849858, 0.00680272, 0.01086957],\n",
       "       [0.02266289, 0.03061224, 0.02536232],\n",
       "       [0.03116147, 0.0255102 , 0.03623188],\n",
       "       [0.16997167, 0.18367347, 0.19565217],\n",
       "       [0.        , 0.00170068, 0.        ],\n",
       "       [0.05665722, 0.03401361, 0.05434783],\n",
       "       [0.03966006, 0.05102041, 0.03623188],\n",
       "       [0.27478754, 0.27380952, 0.26449275],\n",
       "       [0.05949008, 0.06462585, 0.05797101],\n",
       "       [0.        , 0.        , 0.        ],\n",
       "       [0.01416431, 0.0255102 , 0.01811594],\n",
       "       [0.01983003, 0.02040816, 0.02536232],\n",
       "       [0.06798867, 0.07823129, 0.0615942 ],\n",
       "       [0.03966006, 0.04761905, 0.03623188],\n",
       "       [0.00849858, 0.00170068, 0.00724638],\n",
       "       [0.13597734, 0.17346939, 0.15942029],\n",
       "       [0.01983003, 0.03401361, 0.02173913],\n",
       "       [0.00566572, 0.00170068, 0.00724638],\n",
       "       [0.27478754, 0.28741497, 0.28985507],\n",
       "       [0.00283286, 0.00170068, 0.00362319],\n",
       "       [0.        , 0.00340136, 0.        ],\n",
       "       [0.00283286, 0.        , 0.00362319],\n",
       "       [0.01133144, 0.00340136, 0.01086957],\n",
       "       [0.38526912, 0.46088435, 0.36956522],\n",
       "       [0.40226629, 0.30102041, 0.30797101],\n",
       "       [0.05665722, 0.04421769, 0.05072464],\n",
       "       [0.04815864, 0.0255102 , 0.04710145],\n",
       "       [0.22946176, 0.25      , 0.27536232],\n",
       "       [0.03116147, 0.03571429, 0.0326087 ],\n",
       "       [0.00849858, 0.01020408, 0.01086957],\n",
       "       [0.06515581, 0.06292517, 0.06884058],\n",
       "       [0.1898017 , 0.24489796, 0.19927536],\n",
       "       [0.02832861, 0.05612245, 0.0326087 ],\n",
       "       [0.        , 0.        , 0.        ],\n",
       "       [0.00283286, 0.        , 0.00362319],\n",
       "       [0.00283286, 0.00680272, 0.00362319],\n",
       "       [0.03966006, 0.04081633, 0.03985507],\n",
       "       [0.01699717, 0.01360544, 0.01449275],\n",
       "       [0.09348442, 0.1122449 , 0.09782609]])"
      ]
     },
     "execution_count": 11,
     "metadata": {},
     "output_type": "execute_result"
    }
   ],
   "source": [
    "scaler = MinMaxScaler().fit_transform(data)\n",
    "scaler"
   ]
  },
  {
   "cell_type": "code",
   "execution_count": 12,
   "id": "67632ce7",
   "metadata": {},
   "outputs": [
    {
     "data": {
      "text/html": [
       "<div>\n",
       "<style scoped>\n",
       "    .dataframe tbody tr th:only-of-type {\n",
       "        vertical-align: middle;\n",
       "    }\n",
       "\n",
       "    .dataframe tbody tr th {\n",
       "        vertical-align: top;\n",
       "    }\n",
       "\n",
       "    .dataframe thead th {\n",
       "        text-align: right;\n",
       "    }\n",
       "</style>\n",
       "<table border=\"1\" class=\"dataframe\">\n",
       "  <thead>\n",
       "    <tr style=\"text-align: right;\">\n",
       "      <th></th>\n",
       "      <th>cost</th>\n",
       "      <th>impressions</th>\n",
       "      <th>clicks</th>\n",
       "    </tr>\n",
       "  </thead>\n",
       "  <tbody>\n",
       "    <tr>\n",
       "      <th>0</th>\n",
       "      <td>0.164306</td>\n",
       "      <td>0.204082</td>\n",
       "      <td>0.177536</td>\n",
       "    </tr>\n",
       "    <tr>\n",
       "      <th>1</th>\n",
       "      <td>0.048159</td>\n",
       "      <td>0.035714</td>\n",
       "      <td>0.043478</td>\n",
       "    </tr>\n",
       "    <tr>\n",
       "      <th>2</th>\n",
       "      <td>0.014164</td>\n",
       "      <td>0.006803</td>\n",
       "      <td>0.010870</td>\n",
       "    </tr>\n",
       "    <tr>\n",
       "      <th>3</th>\n",
       "      <td>0.002833</td>\n",
       "      <td>0.001701</td>\n",
       "      <td>0.003623</td>\n",
       "    </tr>\n",
       "    <tr>\n",
       "      <th>4</th>\n",
       "      <td>0.002833</td>\n",
       "      <td>0.003401</td>\n",
       "      <td>0.003623</td>\n",
       "    </tr>\n",
       "  </tbody>\n",
       "</table>\n",
       "</div>"
      ],
      "text/plain": [
       "       cost  impressions    clicks\n",
       "0  0.164306     0.204082  0.177536\n",
       "1  0.048159     0.035714  0.043478\n",
       "2  0.014164     0.006803  0.010870\n",
       "3  0.002833     0.001701  0.003623\n",
       "4  0.002833     0.003401  0.003623"
      ]
     },
     "execution_count": 12,
     "metadata": {},
     "output_type": "execute_result"
    }
   ],
   "source": [
    "data_n = pd.DataFrame(scaler, columns=['cost','impressions','clicks'])\n",
    "data_n.head()"
   ]
  },
  {
   "cell_type": "code",
   "execution_count": 13,
   "id": "593804c2",
   "metadata": {},
   "outputs": [
    {
     "data": {
      "text/plain": [
       "-3.5843575932352496"
      ]
     },
     "execution_count": 13,
     "metadata": {},
     "output_type": "execute_result"
    }
   ],
   "source": [
    "score = KMeans(n_clusters=3).fit(data_n).score(data_n)\n",
    "score"
   ]
  },
  {
   "cell_type": "code",
   "execution_count": 14,
   "id": "384077fd",
   "metadata": {},
   "outputs": [],
   "source": [
    "# elbow methode\n",
    "inertias = []\n",
    "k_range = range(1,10)\n",
    "for i in k_range:\n",
    "    km = KMeans(n_clusters=i).fit(data_n)\n",
    "    inertias.append(km.inertia_)"
   ]
  },
  {
   "cell_type": "code",
   "execution_count": 15,
   "id": "d0cad4f9",
   "metadata": {},
   "outputs": [
    {
     "data": {
      "text/plain": [
       "[26.769472667259382,\n",
       " 7.948504670166481,\n",
       " 3.5843575932352487,\n",
       " 1.7737021535236466,\n",
       " 1.0839212816461434,\n",
       " 0.8227882566600146,\n",
       " 0.683973782426128,\n",
       " 0.5727719823716235,\n",
       " 0.4881614557098453]"
      ]
     },
     "execution_count": 15,
     "metadata": {},
     "output_type": "execute_result"
    }
   ],
   "source": [
    "inertias"
   ]
  },
  {
   "cell_type": "code",
   "execution_count": 16,
   "id": "751e002d",
   "metadata": {},
   "outputs": [
    {
     "data": {
      "image/png": "[encoded data removed]",
      "text/plain": [
       "<Figure size 640x480 with 1 Axes>"
      ]
     },
     "metadata": {},
     "output_type": "display_data"
    }
   ],
   "source": [
    "plt.xlabel('k')\n",
    "plt.ylabel('Sum of Error')\n",
    "plt.plot(inertias)\n",
    "plt.grid()"
   ]
  },
  {
   "cell_type": "code",
   "execution_count": 17,
   "id": "6d1731f5",
   "metadata": {},
   "outputs": [
    {
     "data": {
      "text/html": [
       "<style>#sk-container-id-1 {color: black;background-color: white;}#sk-container-id-1 pre{padding: 0;}#sk-container-id-1 div.sk-toggleable {background-color: white;}#sk-container-id-1 label.sk-toggleable__label {cursor: pointer;display: block;width: 100%;margin-bottom: 0;padding: 0.3em;box-sizing: border-box;text-align: center;}#sk-container-id-1 label.sk-toggleable__label-arrow:before {content: \"▸\";float: left;margin-right: 0.25em;color: #696969;}#sk-container-id-1 label.sk-toggleable__label-arrow:hover:before {color: black;}#sk-container-id-1 div.sk-estimator:hover label.sk-toggleable__label-arrow:before {color: black;}#sk-container-id-1 div.sk-toggleable__content {max-height: 0;max-width: 0;overflow: hidden;text-align: left;background-color: #f0f8ff;}#sk-container-id-1 div.sk-toggleable__content pre {margin: 0.2em;color: black;border-radius: 0.25em;background-color: #f0f8ff;}#sk-container-id-1 input.sk-toggleable__control:checked~div.sk-toggleable__content {max-height: 200px;max-width: 100%;overflow: auto;}#sk-container-id-1 input.sk-toggleable__control:checked~label.sk-toggleable__label-arrow:before {content: \"▾\";}#sk-container-id-1 div.sk-estimator input.sk-toggleable__control:checked~label.sk-toggleable__label {background-color: #d4ebff;}#sk-container-id-1 div.sk-label input.sk-toggleable__control:checked~label.sk-toggleable__label {background-color: #d4ebff;}#sk-container-id-1 input.sk-hidden--visually {border: 0;clip: rect(1px 1px 1px 1px);clip: rect(1px, 1px, 1px, 1px);height: 1px;margin: -1px;overflow: hidden;padding: 0;position: absolute;width: 1px;}#sk-container-id-1 div.sk-estimator {font-family: monospace;background-color: #f0f8ff;border: 1px dotted black;border-radius: 0.25em;box-sizing: border-box;margin-bottom: 0.5em;}#sk-container-id-1 div.sk-estimator:hover {background-color: #d4ebff;}#sk-container-id-1 div.sk-parallel-item::after {content: \"\";width: 100%;border-bottom: 1px solid gray;flex-grow: 1;}#sk-container-id-1 div.sk-label:hover label.sk-toggleable__label {background-color: #d4ebff;}#sk-container-id-1 div.sk-serial::before {content: \"\";position: absolute;border-left: 1px solid gray;box-sizing: border-box;top: 0;bottom: 0;left: 50%;z-index: 0;}#sk-container-id-1 div.sk-serial {display: flex;flex-direction: column;align-items: center;background-color: white;padding-right: 0.2em;padding-left: 0.2em;position: relative;}#sk-container-id-1 div.sk-item {position: relative;z-index: 1;}#sk-container-id-1 div.sk-parallel {display: flex;align-items: stretch;justify-content: center;background-color: white;position: relative;}#sk-container-id-1 div.sk-item::before, #sk-container-id-1 div.sk-parallel-item::before {content: \"\";position: absolute;border-left: 1px solid gray;box-sizing: border-box;top: 0;bottom: 0;left: 50%;z-index: -1;}#sk-container-id-1 div.sk-parallel-item {display: flex;flex-direction: column;z-index: 1;position: relative;background-color: white;}#sk-container-id-1 div.sk-parallel-item:first-child::after {align-self: flex-end;width: 50%;}#sk-container-id-1 div.sk-parallel-item:last-child::after {align-self: flex-start;width: 50%;}#sk-container-id-1 div.sk-parallel-item:only-child::after {width: 0;}#sk-container-id-1 div.sk-dashed-wrapped {border: 1px dashed gray;margin: 0 0.4em 0.5em 0.4em;box-sizing: border-box;padding-bottom: 0.4em;background-color: white;}#sk-container-id-1 div.sk-label label {font-family: monospace;font-weight: bold;display: inline-block;line-height: 1.2em;}#sk-container-id-1 div.sk-label-container {text-align: center;}#sk-container-id-1 div.sk-container {/* jupyter's `normalize.less` sets `[hidden] { display: none; }` but bootstrap.min.css set `[hidden] { display: none !important; }` so we also need the `!important` here to be able to override the default hidden behavior on the sphinx rendered scikit-learn.org. See: https://github.com/scikit-learn/scikit-learn/issues/21755 */display: inline-block !important;position: relative;}#sk-container-id-1 div.sk-text-repr-fallback {display: none;}</style><div id=\"sk-container-id-1\" class=\"sk-top-container\"><div class=\"sk-text-repr-fallback\"><pre>KMeans(n_clusters=3)</pre><b>In a Jupyter environment, please rerun this cell to show the HTML representation or trust the notebook. <br />On GitHub, the HTML representation is unable to render, please try loading this page with nbviewer.org.</b></div><div class=\"sk-container\" hidden><div class=\"sk-item\"><div class=\"sk-estimator sk-toggleable\"><input class=\"sk-toggleable__control sk-hidden--visually\" id=\"sk-estimator-id-1\" type=\"checkbox\" checked><label for=\"sk-estimator-id-1\" class=\"sk-toggleable__label sk-toggleable__label-arrow\">KMeans</label><div class=\"sk-toggleable__content\"><pre>KMeans(n_clusters=3)</pre></div></div></div></div></div>"
      ],
      "text/plain": [
       "KMeans(n_clusters=3)"
      ]
     },
     "execution_count": 17,
     "metadata": {},
     "output_type": "execute_result"
    }
   ],
   "source": [
    "km = KMeans(n_clusters=3)\n",
    "km"
   ]
  },
  {
   "cell_type": "code",
   "execution_count": 18,
   "id": "4bda17fc",
   "metadata": {},
   "outputs": [
    {
     "data": {
      "text/plain": [
       "array([0, 1, 1, 1, 1, 1, 0, 1, 0, 1, 0, 1, 1, 0, 1, 1, 1, 0, 1, 1, 1, 0,\n",
       "       1, 0, 1, 1, 0, 0, 1, 1, 1, 1, 0, 1, 1, 1, 0, 1, 1, 1, 1, 1, 1, 1,\n",
       "       1, 1, 1, 1, 1, 1, 1, 1, 1, 0, 0, 1, 1, 1, 1, 0, 1, 0, 1, 0, 1, 1,\n",
       "       0, 0, 1, 1, 0, 1, 1, 1, 0, 1, 0, 1, 0, 1, 0, 1, 1, 1, 1, 1, 0, 2,\n",
       "       1, 0, 1, 1, 1, 1, 1, 1, 1, 1, 0, 1, 0, 1, 1, 2, 1, 2, 1, 1, 1, 0,\n",
       "       1, 0, 1, 0, 1, 2, 1, 2, 0, 1, 1, 1, 0, 1, 1, 1, 0, 1, 0, 0, 1, 1,\n",
       "       1, 1, 0, 1, 1, 1, 0, 1, 1, 1, 1, 1, 1, 1, 1, 1, 1, 1, 1, 1, 0, 1,\n",
       "       0, 1, 0, 1, 1, 1, 0, 1, 1, 1, 0, 1, 1, 1, 1, 1, 1, 1, 1, 1, 1, 1,\n",
       "       1, 1, 0, 1, 1, 0, 1, 0, 1, 1, 0, 1, 1, 1, 0, 1, 1, 1, 1, 1, 1, 1,\n",
       "       1, 1, 1, 1, 0, 1, 1, 0, 0, 1, 1, 0, 1, 1, 1, 0, 1, 1, 1, 1, 1, 1,\n",
       "       1, 1, 1, 1, 1, 0, 1, 1, 0, 1, 0, 1, 1, 0, 1, 1, 1, 0, 1, 1, 1, 1,\n",
       "       1, 1, 1, 1, 1, 1, 1, 1, 0, 0, 1, 0, 1, 1, 1, 1, 1, 1, 1, 0, 1, 1,\n",
       "       1, 1, 1, 1, 1, 1, 1, 1, 1, 0, 1, 1, 1, 0, 0, 1, 1, 1, 0, 1, 1, 1,\n",
       "       0, 1, 1, 1, 1, 1, 1, 1, 1, 1, 1, 0, 1, 1, 1, 1, 0, 0, 1, 1, 0, 1,\n",
       "       1, 1, 0, 1, 1, 1, 1, 1, 1, 1])"
      ]
     },
     "execution_count": 18,
     "metadata": {},
     "output_type": "execute_result"
    }
   ],
   "source": [
    "y_pred = km.fit_predict(data_n)\n",
    "y_pred"
   ]
  },
  {
   "cell_type": "code",
   "execution_count": 19,
   "id": "e13f8cc6",
   "metadata": {},
   "outputs": [
    {
     "data": {
      "text/html": [
       "<div>\n",
       "<style scoped>\n",
       "    .dataframe tbody tr th:only-of-type {\n",
       "        vertical-align: middle;\n",
       "    }\n",
       "\n",
       "    .dataframe tbody tr th {\n",
       "        vertical-align: top;\n",
       "    }\n",
       "\n",
       "    .dataframe thead th {\n",
       "        text-align: right;\n",
       "    }\n",
       "</style>\n",
       "<table border=\"1\" class=\"dataframe\">\n",
       "  <thead>\n",
       "    <tr style=\"text-align: right;\">\n",
       "      <th></th>\n",
       "      <th>cost</th>\n",
       "      <th>impressions</th>\n",
       "      <th>clicks</th>\n",
       "      <th>cluster</th>\n",
       "    </tr>\n",
       "  </thead>\n",
       "  <tbody>\n",
       "    <tr>\n",
       "      <th>0</th>\n",
       "      <td>0.164306</td>\n",
       "      <td>0.204082</td>\n",
       "      <td>0.177536</td>\n",
       "      <td>0</td>\n",
       "    </tr>\n",
       "    <tr>\n",
       "      <th>1</th>\n",
       "      <td>0.048159</td>\n",
       "      <td>0.035714</td>\n",
       "      <td>0.043478</td>\n",
       "      <td>1</td>\n",
       "    </tr>\n",
       "    <tr>\n",
       "      <th>2</th>\n",
       "      <td>0.014164</td>\n",
       "      <td>0.006803</td>\n",
       "      <td>0.010870</td>\n",
       "      <td>1</td>\n",
       "    </tr>\n",
       "    <tr>\n",
       "      <th>3</th>\n",
       "      <td>0.002833</td>\n",
       "      <td>0.001701</td>\n",
       "      <td>0.003623</td>\n",
       "      <td>1</td>\n",
       "    </tr>\n",
       "    <tr>\n",
       "      <th>4</th>\n",
       "      <td>0.002833</td>\n",
       "      <td>0.003401</td>\n",
       "      <td>0.003623</td>\n",
       "      <td>1</td>\n",
       "    </tr>\n",
       "    <tr>\n",
       "      <th>...</th>\n",
       "      <td>...</td>\n",
       "      <td>...</td>\n",
       "      <td>...</td>\n",
       "      <td>...</td>\n",
       "    </tr>\n",
       "    <tr>\n",
       "      <th>313</th>\n",
       "      <td>0.002833</td>\n",
       "      <td>0.000000</td>\n",
       "      <td>0.003623</td>\n",
       "      <td>1</td>\n",
       "    </tr>\n",
       "    <tr>\n",
       "      <th>314</th>\n",
       "      <td>0.002833</td>\n",
       "      <td>0.006803</td>\n",
       "      <td>0.003623</td>\n",
       "      <td>1</td>\n",
       "    </tr>\n",
       "    <tr>\n",
       "      <th>315</th>\n",
       "      <td>0.039660</td>\n",
       "      <td>0.040816</td>\n",
       "      <td>0.039855</td>\n",
       "      <td>1</td>\n",
       "    </tr>\n",
       "    <tr>\n",
       "      <th>316</th>\n",
       "      <td>0.016997</td>\n",
       "      <td>0.013605</td>\n",
       "      <td>0.014493</td>\n",
       "      <td>1</td>\n",
       "    </tr>\n",
       "    <tr>\n",
       "      <th>317</th>\n",
       "      <td>0.093484</td>\n",
       "      <td>0.112245</td>\n",
       "      <td>0.097826</td>\n",
       "      <td>1</td>\n",
       "    </tr>\n",
       "  </tbody>\n",
       "</table>\n",
       "<p>318 rows × 4 columns</p>\n",
       "</div>"
      ],
      "text/plain": [
       "         cost  impressions    clicks  cluster\n",
       "0    0.164306     0.204082  0.177536        0\n",
       "1    0.048159     0.035714  0.043478        1\n",
       "2    0.014164     0.006803  0.010870        1\n",
       "3    0.002833     0.001701  0.003623        1\n",
       "4    0.002833     0.003401  0.003623        1\n",
       "..        ...          ...       ...      ...\n",
       "313  0.002833     0.000000  0.003623        1\n",
       "314  0.002833     0.006803  0.003623        1\n",
       "315  0.039660     0.040816  0.039855        1\n",
       "316  0.016997     0.013605  0.014493        1\n",
       "317  0.093484     0.112245  0.097826        1\n",
       "\n",
       "[318 rows x 4 columns]"
      ]
     },
     "execution_count": 19,
     "metadata": {},
     "output_type": "execute_result"
    }
   ],
   "source": [
    "data_n['cluster'] = y_pred\n",
    "data_n"
   ]
  },
  {
   "cell_type": "code",
   "execution_count": 20,
   "id": "3956d800",
   "metadata": {},
   "outputs": [
    {
     "data": {
      "text/plain": [
       "array([[0.31381807, 0.33000283, 0.31275161],\n",
       "       [0.03006829, 0.03133909, 0.0303085 ],\n",
       "       [0.90254958, 0.89183673, 0.88405797]])"
      ]
     },
     "execution_count": 20,
     "metadata": {},
     "output_type": "execute_result"
    }
   ],
   "source": [
    "#centroid\n",
    "km.cluster_centers_"
   ]
  },
  {
   "cell_type": "code",
   "execution_count": 21,
   "id": "f0acf7eb",
   "metadata": {},
   "outputs": [
    {
     "data": {
      "text/plain": [
       "(array([ 72.,   0.,   0.,   0.,   0., 241.,   0.,   0.,   0.,   5.]),\n",
       " array([0. , 0.2, 0.4, 0.6, 0.8, 1. , 1.2, 1.4, 1.6, 1.8, 2. ]),\n",
       " <BarContainer object of 10 artists>)"
      ]
     },
     "execution_count": 21,
     "metadata": {},
     "output_type": "execute_result"
    },
    {
     "data": {
      "image/png": "[encoded data removed]",
      "text/plain": [
       "<Figure size 640x480 with 1 Axes>"
      ]
     },
     "metadata": {},
     "output_type": "display_data"
    }
   ],
   "source": [
    "plt.hist(data_n['cluster'])"
   ]
  },
  {
   "cell_type": "code",
   "execution_count": 22,
   "id": "0aa8d95e",
   "metadata": {},
   "outputs": [
    {
     "data": {
      "text/plain": [
       "<matplotlib.legend.Legend at 0x27ab1430a60>"
      ]
     },
     "execution_count": 22,
     "metadata": {},
     "output_type": "execute_result"
    },
    {
     "data": {
      "image/png": "[encoded data removed]",
      "text/plain": [
       "<Figure size 700x500 with 1 Axes>"
      ]
     },
     "metadata": {},
     "output_type": "display_data"
    }
   ],
   "source": [
    "plt.figure(figsize=(7,5))\n",
    "plt.scatter(data_n['cost'], data_n['impressions'], data_n['clicks'], c=km.labels_)\n",
    "plt.scatter(km.cluster_centers_[0,0], km.cluster_centers_[0,1],cmap='rainbow', marker='*', s=100, label='centroid 0 ')\n",
    "plt.scatter(km.cluster_centers_[1,0], km.cluster_centers_[1,1],cmap='rainbow', marker='*', s=100, label='centroid 1 ')\n",
    "plt.scatter(km.cluster_centers_[2,0], km.cluster_centers_[2,1],cmap='rainbow', marker='*', s=100, label='centroid 2 ')\n",
    "plt.legend()"
   ]
  },
  {
   "cell_type": "code",
   "execution_count": 23,
   "id": "e3100d4e",
   "metadata": {},
   "outputs": [
    {
     "data": {
      "text/plain": [
       "<matplotlib.collections.PathCollection at 0x27ab147f220>"
      ]
     },
     "execution_count": 23,
     "metadata": {},
     "output_type": "execute_result"
    },
    {
     "data": {
      "image/png": "[encoded data removed]",
      "text/plain": [
       "<Figure size 640x480 with 1 Axes>"
      ]
     },
     "metadata": {},
     "output_type": "display_data"
    }
   ],
   "source": [
    "x = data_n['cost']\n",
    "y = data_n['impressions']\n",
    "label = data_n['cluster']\n",
    "plt.scatter(x, y, c=label, cmap='plasma')"
   ]
  },
  {
   "cell_type": "code",
   "execution_count": 24,
   "id": "79cf6384",
   "metadata": {},
   "outputs": [
    {
     "data": {
      "text/plain": [
       "<matplotlib.collections.PathCollection at 0x27ab14eaf80>"
      ]
     },
     "execution_count": 24,
     "metadata": {},
     "output_type": "execute_result"
    },
    {
     "data": {
      "image/png": "[encoded data removed]",
      "text/plain": [
       "<Figure size 640x480 with 1 Axes>"
      ]
     },
     "metadata": {},
     "output_type": "display_data"
    }
   ],
   "source": [
    "x = data_n['cost']\n",
    "y = data_n['clicks']\n",
    "label = data_n['cluster']\n",
    "plt.scatter(x, y, c=label, cmap='plasma')"
   ]
  },
  {
   "cell_type": "code",
   "execution_count": 28,
   "id": "71a27359",
   "metadata": {},
   "outputs": [
    {
     "data": {
      "text/html": [
       "<div>\n",
       "<style scoped>\n",
       "    .dataframe tbody tr th:only-of-type {\n",
       "        vertical-align: middle;\n",
       "    }\n",
       "\n",
       "    .dataframe tbody tr th {\n",
       "        vertical-align: top;\n",
       "    }\n",
       "\n",
       "    .dataframe thead th {\n",
       "        text-align: right;\n",
       "    }\n",
       "</style>\n",
       "<table border=\"1\" class=\"dataframe\">\n",
       "  <thead>\n",
       "    <tr style=\"text-align: right;\">\n",
       "      <th></th>\n",
       "      <th>cost</th>\n",
       "      <th>impressions</th>\n",
       "      <th>clicks</th>\n",
       "      <th>cluster</th>\n",
       "    </tr>\n",
       "  </thead>\n",
       "  <tbody>\n",
       "    <tr>\n",
       "      <th>cost</th>\n",
       "      <td>1.000000</td>\n",
       "      <td>0.982978</td>\n",
       "      <td>0.990576</td>\n",
       "      <td>-0.458381</td>\n",
       "    </tr>\n",
       "    <tr>\n",
       "      <th>impressions</th>\n",
       "      <td>0.982978</td>\n",
       "      <td>1.000000</td>\n",
       "      <td>0.990075</td>\n",
       "      <td>-0.484706</td>\n",
       "    </tr>\n",
       "    <tr>\n",
       "      <th>clicks</th>\n",
       "      <td>0.990576</td>\n",
       "      <td>0.990075</td>\n",
       "      <td>1.000000</td>\n",
       "      <td>-0.470681</td>\n",
       "    </tr>\n",
       "    <tr>\n",
       "      <th>cluster</th>\n",
       "      <td>-0.458381</td>\n",
       "      <td>-0.484706</td>\n",
       "      <td>-0.470681</td>\n",
       "      <td>1.000000</td>\n",
       "    </tr>\n",
       "  </tbody>\n",
       "</table>\n",
       "</div>"
      ],
      "text/plain": [
       "                 cost  impressions    clicks   cluster\n",
       "cost         1.000000     0.982978  0.990576 -0.458381\n",
       "impressions  0.982978     1.000000  0.990075 -0.484706\n",
       "clicks       0.990576     0.990075  1.000000 -0.470681\n",
       "cluster     -0.458381    -0.484706 -0.470681  1.000000"
      ]
     },
     "execution_count": 28,
     "metadata": {},
     "output_type": "execute_result"
    }
   ],
   "source": [
    "data_n.corr()"
   ]
  },
  {
   "cell_type": "code",
   "execution_count": 26,
   "id": "3b874270",
   "metadata": {},
   "outputs": [
    {
     "data": {
      "image/png": "[encoded data removed]",
      "text/plain": [
       "<Figure size 1000x500 with 2 Axes>"
      ]
     },
     "metadata": {},
     "output_type": "display_data"
    }
   ],
   "source": [
    "plt.figure(figsize=(10,5))\n",
    "s = sns.heatmap(data_n.corr(),\n",
    "                annot=True,\n",
    "                cmap='RdBu',\n",
    "                vmin=-1,\n",
    "                vmax=1)\n",
    "s.set_yticklabels(s.get_yticklabels(), rotation = 0, fontsize = 12)\n",
    "s.set_xticklabels(s.get_xticklabels(), rotation = 0, fontsize = 12)\n",
    "plt.title('Correlation Heatmap')\n",
    "plt.show()"
   ]
  },
  {
   "cell_type": "code",
   "execution_count": 29,
   "id": "518c7cbb",
   "metadata": {},
   "outputs": [
    {
     "data": {
      "text/html": [
       "<div>\n",
       "<style scoped>\n",
       "    .dataframe tbody tr th:only-of-type {\n",
       "        vertical-align: middle;\n",
       "    }\n",
       "\n",
       "    .dataframe tbody tr th {\n",
       "        vertical-align: top;\n",
       "    }\n",
       "\n",
       "    .dataframe thead th {\n",
       "        text-align: right;\n",
       "    }\n",
       "</style>\n",
       "<table border=\"1\" class=\"dataframe\">\n",
       "  <thead>\n",
       "    <tr style=\"text-align: right;\">\n",
       "      <th></th>\n",
       "      <th>cost</th>\n",
       "      <th>impressions</th>\n",
       "      <th>clicks</th>\n",
       "      <th>cluster</th>\n",
       "    </tr>\n",
       "  </thead>\n",
       "  <tbody>\n",
       "    <tr>\n",
       "      <th>0</th>\n",
       "      <td>0.164306</td>\n",
       "      <td>0.204082</td>\n",
       "      <td>0.177536</td>\n",
       "      <td>Good</td>\n",
       "    </tr>\n",
       "    <tr>\n",
       "      <th>1</th>\n",
       "      <td>0.048159</td>\n",
       "      <td>0.035714</td>\n",
       "      <td>0.043478</td>\n",
       "      <td>Average</td>\n",
       "    </tr>\n",
       "    <tr>\n",
       "      <th>2</th>\n",
       "      <td>0.014164</td>\n",
       "      <td>0.006803</td>\n",
       "      <td>0.010870</td>\n",
       "      <td>Average</td>\n",
       "    </tr>\n",
       "    <tr>\n",
       "      <th>3</th>\n",
       "      <td>0.002833</td>\n",
       "      <td>0.001701</td>\n",
       "      <td>0.003623</td>\n",
       "      <td>Average</td>\n",
       "    </tr>\n",
       "    <tr>\n",
       "      <th>4</th>\n",
       "      <td>0.002833</td>\n",
       "      <td>0.003401</td>\n",
       "      <td>0.003623</td>\n",
       "      <td>Average</td>\n",
       "    </tr>\n",
       "    <tr>\n",
       "      <th>...</th>\n",
       "      <td>...</td>\n",
       "      <td>...</td>\n",
       "      <td>...</td>\n",
       "      <td>...</td>\n",
       "    </tr>\n",
       "    <tr>\n",
       "      <th>313</th>\n",
       "      <td>0.002833</td>\n",
       "      <td>0.000000</td>\n",
       "      <td>0.003623</td>\n",
       "      <td>Average</td>\n",
       "    </tr>\n",
       "    <tr>\n",
       "      <th>314</th>\n",
       "      <td>0.002833</td>\n",
       "      <td>0.006803</td>\n",
       "      <td>0.003623</td>\n",
       "      <td>Average</td>\n",
       "    </tr>\n",
       "    <tr>\n",
       "      <th>315</th>\n",
       "      <td>0.039660</td>\n",
       "      <td>0.040816</td>\n",
       "      <td>0.039855</td>\n",
       "      <td>Average</td>\n",
       "    </tr>\n",
       "    <tr>\n",
       "      <th>316</th>\n",
       "      <td>0.016997</td>\n",
       "      <td>0.013605</td>\n",
       "      <td>0.014493</td>\n",
       "      <td>Average</td>\n",
       "    </tr>\n",
       "    <tr>\n",
       "      <th>317</th>\n",
       "      <td>0.093484</td>\n",
       "      <td>0.112245</td>\n",
       "      <td>0.097826</td>\n",
       "      <td>Average</td>\n",
       "    </tr>\n",
       "  </tbody>\n",
       "</table>\n",
       "<p>318 rows × 4 columns</p>\n",
       "</div>"
      ],
      "text/plain": [
       "         cost  impressions    clicks  cluster\n",
       "0    0.164306     0.204082  0.177536     Good\n",
       "1    0.048159     0.035714  0.043478  Average\n",
       "2    0.014164     0.006803  0.010870  Average\n",
       "3    0.002833     0.001701  0.003623  Average\n",
       "4    0.002833     0.003401  0.003623  Average\n",
       "..        ...          ...       ...      ...\n",
       "313  0.002833     0.000000  0.003623  Average\n",
       "314  0.002833     0.006803  0.003623  Average\n",
       "315  0.039660     0.040816  0.039855  Average\n",
       "316  0.016997     0.013605  0.014493  Average\n",
       "317  0.093484     0.112245  0.097826  Average\n",
       "\n",
       "[318 rows x 4 columns]"
      ]
     },
     "execution_count": 29,
     "metadata": {},
     "output_type": "execute_result"
    }
   ],
   "source": [
    "# New Dataset\n",
    "data_n['cluster'] = data_n['cluster'].replace([0,1,2],['Good','Average','Not Good'])\n",
    "data_n"
   ]
  },
  {
   "cell_type": "code",
   "execution_count": 30,
   "id": "fb0ee298",
   "metadata": {},
   "outputs": [
    {
     "data": {
      "text/plain": [
       "count         318\n",
       "unique          3\n",
       "top       Average\n",
       "freq          241\n",
       "Name: cluster, dtype: object"
      ]
     },
     "execution_count": 30,
     "metadata": {},
     "output_type": "execute_result"
    }
   ],
   "source": [
    "data_n['cluster'].describe()"
   ]
  },
  {
   "cell_type": "code",
   "execution_count": null,
   "id": "29b3012d",
   "metadata": {},
   "outputs": [],
   "source": []
  }
 ],
 "metadata": {
  "kernelspec": {
   "display_name": "Python 3 (ipykernel)",
   "language": "python",
   "name": "python3"
  },
  "language_info": {
   "codemirror_mode": {
    "name": "ipython",
    "version": 3
   },
   "file_extension": ".py",
   "mimetype": "text/x-python",
   "name": "python",
   "nbconvert_exporter": "python",
   "pygments_lexer": "ipython3",
   "version": "3.10.6"
  }
 },
 "nbformat": 4,
 "nbformat_minor": 5
}
